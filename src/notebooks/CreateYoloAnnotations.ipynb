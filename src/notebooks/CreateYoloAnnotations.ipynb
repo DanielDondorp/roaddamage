{
 "cells": [
  {
   "cell_type": "code",
   "execution_count": 1,
   "id": "c5e7abf3-0652-4893-921c-487004892afb",
   "metadata": {},
   "outputs": [],
   "source": [
    "import sys\n",
    "sys.path.append(\"/home/daniel/repos/roads/src/\")"
   ]
  },
  {
   "cell_type": "code",
   "execution_count": 2,
   "id": "54b3a345-9dbb-4e5d-b967-42d4f03db83d",
   "metadata": {
    "editable": true,
    "slideshow": {
     "slide_type": ""
    },
    "tags": []
   },
   "outputs": [],
   "source": [
    "from utils import utils\n",
    "import glob"
   ]
  },
  {
   "cell_type": "code",
   "execution_count": 3,
   "id": "fcb9fa46-b046-4d74-8634-7515b96932c1",
   "metadata": {},
   "outputs": [],
   "source": [
    "annotation_paths = glob.glob(\"/home/daniel/repos/roads/datasetes/train/**/*.xml\", recursive = True)"
   ]
  },
  {
   "cell_type": "code",
   "execution_count": 4,
   "id": "92c2adbf-fee9-42d3-a347-1b56502f9630",
   "metadata": {},
   "outputs": [],
   "source": [
    "image_paths = glob.glob(\"/home/daniel/repos/roads/datasets/train/**/*.jpg\", recursive=True)"
   ]
  },
  {
   "cell_type": "code",
   "execution_count": 5,
   "id": "230d53fe-f015-4200-b1db-949f1391efd0",
   "metadata": {},
   "outputs": [],
   "source": [
    "import numpy as np"
   ]
  },
  {
   "cell_type": "code",
   "execution_count": 6,
   "id": "de2ce06e-107e-407d-b53c-712b9efac623",
   "metadata": {
    "editable": true,
    "slideshow": {
     "slide_type": ""
    },
    "tags": []
   },
   "outputs": [],
   "source": [
    "to_move = np.random.choice(image_paths, int(len(image_paths)*0.1))"
   ]
  },
  {
   "cell_type": "code",
   "execution_count": 7,
   "id": "4b5e27ec-59b1-4024-beea-e09f420f1470",
   "metadata": {},
   "outputs": [
    {
     "data": {
      "text/plain": [
       "816"
      ]
     },
     "execution_count": 7,
     "metadata": {},
     "output_type": "execute_result"
    }
   ],
   "source": [
    "len(to_move)"
   ]
  },
  {
   "cell_type": "code",
   "execution_count": 8,
   "id": "2bc69ea2-e100-4c22-b61c-f04ba00e05ca",
   "metadata": {},
   "outputs": [],
   "source": [
    "from utils.utils import get_yolo_path_from_image_path"
   ]
  },
  {
   "cell_type": "code",
   "execution_count": 23,
   "id": "9cf811ff-2a66-4838-aa95-0e723c0dfb5f",
   "metadata": {},
   "outputs": [],
   "source": [
    "p = get_yolo_path_from_image_path(to_move[25])"
   ]
  },
  {
   "cell_type": "code",
   "execution_count": 24,
   "id": "98c30333-dae1-428a-9f3b-43fdb101874d",
   "metadata": {},
   "outputs": [
    {
     "name": "stdout",
     "output_type": "stream",
     "text": [
      "0 0.3208893768871809 0.6183243508084273 0.014822948119681581 0.037726604605585495\n",
      "\n"
     ]
    }
   ],
   "source": [
    "with open(p, \"r\") as f:\n",
    "    print(f.read())"
   ]
  },
  {
   "cell_type": "code",
   "execution_count": 16,
   "id": "07b4bc9d-108d-4efb-a80b-cbdac3664070",
   "metadata": {},
   "outputs": [
    {
     "data": {
      "text/plain": [
       "'/home/daniel/repos/roads/datasets/train/images/Norway_000910.jpg'"
      ]
     },
     "execution_count": 16,
     "metadata": {},
     "output_type": "execute_result"
    }
   ],
   "source": [
    "to_move[24]"
   ]
  },
  {
   "cell_type": "code",
   "execution_count": 21,
   "id": "9cb9ff87-3807-4667-9c5d-2a957a4aad71",
   "metadata": {},
   "outputs": [
    {
     "data": {
      "text/plain": [
       "'/home/daniel/repos/roads/datasets/train/annotations/Norway_001526.txt'"
      ]
     },
     "execution_count": 21,
     "metadata": {},
     "output_type": "execute_result"
    }
   ],
   "source": [
    "get_yolo_path_from_image_path(to_move[25])"
   ]
  },
  {
   "cell_type": "code",
   "execution_count": 22,
   "id": "ca26f170-cfca-4e9c-93c2-fd3fe53a7f5f",
   "metadata": {},
   "outputs": [],
   "source": [
    "import os"
   ]
  },
  {
   "cell_type": "code",
   "execution_count": 20,
   "id": "977b338a-7eaa-411c-99d7-96c5b4a8c54b",
   "metadata": {},
   "outputs": [
    {
     "data": {
      "text/plain": [
       "True"
      ]
     },
     "execution_count": 20,
     "metadata": {},
     "output_type": "execute_result"
    }
   ],
   "source": [
    "os.path.exists(get_yolo_path_from_image_path(to_move[24]))"
   ]
  },
  {
   "cell_type": "code",
   "execution_count": 27,
   "id": "7f27bd6a-b2fd-4e85-937d-130327721706",
   "metadata": {},
   "outputs": [],
   "source": [
    "import os\n",
    "import shutil"
   ]
  },
  {
   "cell_type": "code",
   "execution_count": 28,
   "id": "d7134729-3d16-4e20-b165-3ae9e8c9fab7",
   "metadata": {},
   "outputs": [],
   "source": [
    "def move_file(image_path):\n",
    "    yolo_path = get_yolo_path_from_image_path(image_path)\n",
    "    new_image_path = image_path.replace(\"train\", \"val\")\n",
    "    new_yolo_path = yolo_path.replace(\"train\", \"val\")\n",
    "    shutil.move(image_path, new_image_path)\n",
    "    shutil.move(yolo_path, new_yolo_path)"
   ]
  },
  {
   "cell_type": "code",
   "execution_count": 29,
   "id": "0ce73676-2b77-46fc-a28f-4e25b1b2d69f",
   "metadata": {},
   "outputs": [],
   "source": [
    "import tqdm"
   ]
  },
  {
   "cell_type": "code",
   "execution_count": 32,
   "id": "33df3d85-9616-4fa1-891e-8d704a5c7806",
   "metadata": {},
   "outputs": [
    {
     "name": "stderr",
     "output_type": "stream",
     "text": [
      "100%|██████████████████████████████████████████████████████████████████████████████| 816/816 [00:00<00:00, 15903.76it/s]"
     ]
    },
    {
     "name": "stdout",
     "output_type": "stream",
     "text": [
      "cant find /home/daniel/repos/roads/datasets/train/images/Norway_007400.jpg\n",
      "cant find /home/daniel/repos/roads/datasets/train/images/Norway_000676.jpg\n",
      "cant find /home/daniel/repos/roads/datasets/train/images/Norway_001404.jpg\n",
      "cant find /home/daniel/repos/roads/datasets/train/images/Norway_002071.jpg\n",
      "cant find /home/daniel/repos/roads/datasets/train/images/Norway_006861.jpg\n",
      "cant find /home/daniel/repos/roads/datasets/train/images/Norway_007650.jpg\n",
      "cant find /home/daniel/repos/roads/datasets/train/images/Norway_005963.jpg\n",
      "cant find /home/daniel/repos/roads/datasets/train/images/Norway_003768.jpg\n",
      "cant find /home/daniel/repos/roads/datasets/train/images/Norway_002882.jpg\n",
      "cant find /home/daniel/repos/roads/datasets/train/images/Norway_003045.jpg\n",
      "cant find /home/daniel/repos/roads/datasets/train/images/Norway_002347.jpg\n",
      "cant find /home/daniel/repos/roads/datasets/train/images/Norway_003331.jpg\n",
      "cant find /home/daniel/repos/roads/datasets/train/images/Norway_005969.jpg\n",
      "cant find /home/daniel/repos/roads/datasets/train/images/Norway_006672.jpg\n",
      "cant find /home/daniel/repos/roads/datasets/train/images/Norway_006346.jpg\n",
      "cant find /home/daniel/repos/roads/datasets/train/images/Norway_002811.jpg\n",
      "cant find /home/daniel/repos/roads/datasets/train/images/Norway_007599.jpg\n",
      "cant find /home/daniel/repos/roads/datasets/train/images/Norway_000673.jpg\n",
      "cant find /home/daniel/repos/roads/datasets/train/images/Norway_001848.jpg\n",
      "cant find /home/daniel/repos/roads/datasets/train/images/Norway_003447.jpg\n",
      "cant find /home/daniel/repos/roads/datasets/train/images/Norway_001003.jpg\n",
      "cant find /home/daniel/repos/roads/datasets/train/images/Norway_005700.jpg\n",
      "cant find /home/daniel/repos/roads/datasets/train/images/Norway_000539.jpg\n",
      "cant find /home/daniel/repos/roads/datasets/train/images/Norway_003789.jpg\n",
      "cant find /home/daniel/repos/roads/datasets/train/images/Norway_000910.jpg\n",
      "cant find /home/daniel/repos/roads/datasets/train/images/Norway_001526.jpg\n",
      "cant find /home/daniel/repos/roads/datasets/train/images/Norway_001042.jpg\n",
      "cant find /home/daniel/repos/roads/datasets/train/images/Norway_003068.jpg\n",
      "cant find /home/daniel/repos/roads/datasets/train/images/Norway_007195.jpg\n",
      "cant find /home/daniel/repos/roads/datasets/train/images/Norway_000826.jpg\n",
      "cant find /home/daniel/repos/roads/datasets/train/images/Norway_005314.jpg\n",
      "cant find /home/daniel/repos/roads/datasets/train/images/Norway_006518.jpg\n",
      "cant find /home/daniel/repos/roads/datasets/train/images/Norway_001802.jpg\n",
      "cant find /home/daniel/repos/roads/datasets/train/images/Norway_006762.jpg\n",
      "cant find /home/daniel/repos/roads/datasets/train/images/Norway_004207.jpg\n",
      "cant find /home/daniel/repos/roads/datasets/train/images/Norway_006619.jpg\n",
      "cant find /home/daniel/repos/roads/datasets/train/images/Norway_002211.jpg\n",
      "cant find /home/daniel/repos/roads/datasets/train/images/Norway_005112.jpg\n",
      "cant find /home/daniel/repos/roads/datasets/train/images/Norway_002798.jpg\n",
      "cant find /home/daniel/repos/roads/datasets/train/images/Norway_007952.jpg\n",
      "cant find /home/daniel/repos/roads/datasets/train/images/Norway_006219.jpg\n",
      "cant find /home/daniel/repos/roads/datasets/train/images/Norway_006619.jpg\n",
      "cant find /home/daniel/repos/roads/datasets/train/images/Norway_007076.jpg\n",
      "cant find /home/daniel/repos/roads/datasets/train/images/Norway_003522.jpg\n",
      "cant find /home/daniel/repos/roads/datasets/train/images/Norway_001842.jpg\n",
      "cant find /home/daniel/repos/roads/datasets/train/images/Norway_000539.jpg\n",
      "cant find /home/daniel/repos/roads/datasets/train/images/Norway_005969.jpg\n",
      "cant find /home/daniel/repos/roads/datasets/train/images/Norway_004099.jpg\n",
      "cant find /home/daniel/repos/roads/datasets/train/images/Norway_006518.jpg\n",
      "cant find /home/daniel/repos/roads/datasets/train/images/Norway_006046.jpg\n",
      "cant find /home/daniel/repos/roads/datasets/train/images/Norway_001791.jpg\n",
      "cant find /home/daniel/repos/roads/datasets/train/images/Norway_006861.jpg\n",
      "cant find /home/daniel/repos/roads/datasets/train/images/Norway_006866.jpg\n",
      "cant find /home/daniel/repos/roads/datasets/train/images/Norway_003033.jpg\n",
      "cant find /home/daniel/repos/roads/datasets/train/images/Norway_000619.jpg\n",
      "cant find /home/daniel/repos/roads/datasets/train/images/Norway_006501.jpg\n",
      "cant find /home/daniel/repos/roads/datasets/train/images/Norway_004877.jpg\n",
      "cant find /home/daniel/repos/roads/datasets/train/images/Norway_007194.jpg\n",
      "cant find /home/daniel/repos/roads/datasets/train/images/Norway_003374.jpg\n",
      "cant find /home/daniel/repos/roads/datasets/train/images/Norway_004514.jpg\n",
      "cant find /home/daniel/repos/roads/datasets/train/images/Norway_006866.jpg\n",
      "cant find /home/daniel/repos/roads/datasets/train/images/Norway_001318.jpg\n",
      "cant find /home/daniel/repos/roads/datasets/train/images/Norway_006294.jpg\n",
      "cant find /home/daniel/repos/roads/datasets/train/images/Norway_006227.jpg\n",
      "cant find /home/daniel/repos/roads/datasets/train/images/Norway_004102.jpg\n",
      "cant find /home/daniel/repos/roads/datasets/train/images/Norway_007084.jpg\n",
      "cant find /home/daniel/repos/roads/datasets/train/images/Norway_007127.jpg\n",
      "cant find /home/daniel/repos/roads/datasets/train/images/Norway_003559.jpg\n",
      "cant find /home/daniel/repos/roads/datasets/train/images/Norway_007428.jpg\n",
      "cant find /home/daniel/repos/roads/datasets/train/images/Norway_008085.jpg\n",
      "cant find /home/daniel/repos/roads/datasets/train/images/Norway_006749.jpg\n",
      "cant find /home/daniel/repos/roads/datasets/train/images/Norway_007058.jpg\n"
     ]
    },
    {
     "name": "stderr",
     "output_type": "stream",
     "text": [
      "\n"
     ]
    }
   ],
   "source": [
    "for p in tqdm.tqdm(to_move):\n",
    "    try:\n",
    "        move_file(p)\n",
    "    except:\n",
    "        print(f\"cant find {p}\")"
   ]
  },
  {
   "cell_type": "code",
   "execution_count": null,
   "id": "2dbf135e-cb76-4213-926c-27640b661c8c",
   "metadata": {},
   "outputs": [],
   "source": []
  }
 ],
 "metadata": {
  "kernelspec": {
   "display_name": "Python 3 (ipykernel)",
   "language": "python",
   "name": "python3"
  },
  "language_info": {
   "codemirror_mode": {
    "name": "ipython",
    "version": 3
   },
   "file_extension": ".py",
   "mimetype": "text/x-python",
   "name": "python",
   "nbconvert_exporter": "python",
   "pygments_lexer": "ipython3",
   "version": "3.11.0rc1"
  }
 },
 "nbformat": 4,
 "nbformat_minor": 5
}
